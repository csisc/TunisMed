{
  "nbformat": 4,
  "nbformat_minor": 0,
  "metadata": {
    "colab": {
      "provenance": []
    },
    "kernelspec": {
      "name": "python3",
      "display_name": "Python 3"
    },
    "language_info": {
      "name": "python"
    }
  },
  "cells": [
    {
      "cell_type": "code",
      "source": [
        "#import the Excel spreadsheet\n",
        "import pandas as pd\n",
        "df = pd.read_excel(\"output_keywords_titles_abstracts.xlsx\")"
      ],
      "metadata": {
        "id": "0W6Ricpui9iz"
      },
      "execution_count": 49,
      "outputs": []
    },
    {
      "cell_type": "code",
      "source": [
        "df.info()"
      ],
      "metadata": {
        "colab": {
          "base_uri": "https://localhost:8080/"
        },
        "id": "EiiFzZOIjKFD",
        "outputId": "b8ec822e-99be-42b2-a527-0ec7acaf8c37"
      },
      "execution_count": 50,
      "outputs": [
        {
          "output_type": "stream",
          "name": "stdout",
          "text": [
            "<class 'pandas.core.frame.DataFrame'>\n",
            "RangeIndex: 7931 entries, 0 to 7930\n",
            "Data columns (total 77 columns):\n",
            " #   Column  Non-Null Count  Dtype \n",
            "---  ------  --------------  ----- \n",
            " 0   PMID    7931 non-null   int64 \n",
            " 1   TI      7931 non-null   object\n",
            " 2   AB      3611 non-null   object\n",
            " 3   MH 1    7804 non-null   object\n",
            " 4   MH 2    7802 non-null   object\n",
            " 5   MH 3    7660 non-null   object\n",
            " 6   MH 4    7406 non-null   object\n",
            " 7   MH 5    7104 non-null   object\n",
            " 8   MH 6    6595 non-null   object\n",
            " 9   MH 7    5806 non-null   object\n",
            " 10  MH 8    4972 non-null   object\n",
            " 11  MH 9    4154 non-null   object\n",
            " 12  MH 10   3421 non-null   object\n",
            " 13  OT 1    559 non-null    object\n",
            " 14  OT 2    341 non-null    object\n",
            " 15  OT 3    175 non-null    object\n",
            " 16  OT 4    108 non-null    object\n",
            " 17  TT      5941 non-null   object\n",
            " 18  MH 11   2775 non-null   object\n",
            " 19  MH 12   2205 non-null   object\n",
            " 20  MH 13   1730 non-null   object\n",
            " 21  OT 5    65 non-null     object\n",
            " 22  OT 6    39 non-null     object\n",
            " 23  MH 14   1282 non-null   object\n",
            " 24  OT 7    29 non-null     object\n",
            " 25  OAB     140 non-null    object\n",
            " 26  OABL    140 non-null    object\n",
            " 27  MH 15   972 non-null    object\n",
            " 28  MH 16   751 non-null    object\n",
            " 29  MH 17   531 non-null    object\n",
            " 30  MH 18   376 non-null    object\n",
            " 31  MH 19   267 non-null    object\n",
            " 32  MH 20   194 non-null    object\n",
            " 33  MH 21   128 non-null    object\n",
            " 34  MH 22   79 non-null     object\n",
            " 35  MH 23   45 non-null     object\n",
            " 36  MH 24   27 non-null     object\n",
            " 37  MH 25   14 non-null     object\n",
            " 38  MH 26   10 non-null     object\n",
            " 39  MH 27   6 non-null      object\n",
            " 40  MH 28   2 non-null      object\n",
            " 41  MH 29   1 non-null      object\n",
            " 42  OT 8    21 non-null     object\n",
            " 43  OT 9    20 non-null     object\n",
            " 44  OT 10   19 non-null     object\n",
            " 45  OT 11   19 non-null     object\n",
            " 46  OT 12   18 non-null     object\n",
            " 47  OT 13   18 non-null     object\n",
            " 48  OT 14   17 non-null     object\n",
            " 49  OT 15   15 non-null     object\n",
            " 50  OT 16   14 non-null     object\n",
            " 51  OT 17   14 non-null     object\n",
            " 52  OT 18   13 non-null     object\n",
            " 53  OT 19   13 non-null     object\n",
            " 54  OT 20   12 non-null     object\n",
            " 55  OT 21   10 non-null     object\n",
            " 56  OT 22   9 non-null      object\n",
            " 57  OT 23   6 non-null      object\n",
            " 58  OT 24   6 non-null      object\n",
            " 59  OT 25   6 non-null      object\n",
            " 60  OT 26   5 non-null      object\n",
            " 61  OT 27   4 non-null      object\n",
            " 62  OT 28   3 non-null      object\n",
            " 63  OT 29   3 non-null      object\n",
            " 64  OT 30   3 non-null      object\n",
            " 65  OT 31   2 non-null      object\n",
            " 66  OT 32   1 non-null      object\n",
            " 67  OT 33   1 non-null      object\n",
            " 68  OT 34   1 non-null      object\n",
            " 69  OT 35   1 non-null      object\n",
            " 70  OT 36   1 non-null      object\n",
            " 71  OT 37   1 non-null      object\n",
            " 72  OT 38   1 non-null      object\n",
            " 73  OT 39   1 non-null      object\n",
            " 74  OT 40   1 non-null      object\n",
            " 75  OT 41   1 non-null      object\n",
            " 76  OT 42   1 non-null      object\n",
            "dtypes: int64(1), object(76)\n",
            "memory usage: 4.7+ MB\n"
          ]
        }
      ]
    },
    {
      "cell_type": "code",
      "source": [
        "#Define variables\n",
        "df_mesh = pd.DataFrame(columns=['PMID', 'TI', 'MH'])\n",
        "mesh_keywords = []\n",
        "title = []\n",
        "pmid = []\n",
        "\n",
        "#define a function to eliminate MeSH qualifiers\n",
        "def eliminate_qualifiers(st):\n",
        "  if (st.find(\"/\") >= 0):\n",
        "    return st[:st.find(\"/\")]\n",
        "  else:\n",
        "    return st\n",
        "\n",
        "#Extracting MeSH-publication pairs\n",
        "for i in range(29):\n",
        "  id_ = \"MH \" + str(i+1)\n",
        "  s = list(df[id_])\n",
        "  s = [str(x).replace(\"*\", \"\") for x in s]\n",
        "  s = [eliminate_qualifiers(x) for x in s]\n",
        "  mesh_keywords += s\n",
        "  pmid += list(df[\"PMID\"])\n",
        "  title += list(df[\"TI  \"])\n",
        "\n",
        "#Saving dataframe\n",
        "df_mesh['PMID'] = pmid\n",
        "df_mesh['TI'] = title\n",
        "df_mesh['MH'] = mesh_keywords"
      ],
      "metadata": {
        "id": "rZZ6IHaFjYNj"
      },
      "execution_count": 51,
      "outputs": []
    },
    {
      "cell_type": "code",
      "source": [
        "#Define variables\n",
        "df_keywords = pd.DataFrame(columns=['PMID', 'TI', 'OT'])\n",
        "keywords = []\n",
        "title = []\n",
        "pmid = []\n",
        "\n",
        "#Extracting keyword-publication pairs\n",
        "for i in range(42):\n",
        "  id_ = \"OT \" + str(i+1)\n",
        "  s = list(df[id_])\n",
        "  s = [str(x).replace(\"*\", \"\") for x in s]\n",
        "  s = [eliminate_qualifiers(x) for x in s]\n",
        "  keywords += s\n",
        "  pmid += list(df[\"PMID\"])\n",
        "  title += list(df[\"TI  \"])\n",
        "\n",
        "#Saving dataframe\n",
        "df_keywords['PMID'] = pmid\n",
        "df_keywords['TI'] = title\n",
        "df_keywords['OT'] = keywords"
      ],
      "metadata": {
        "id": "5-ASPFcakU1u"
      },
      "execution_count": 52,
      "outputs": []
    },
    {
      "cell_type": "code",
      "source": [
        "#Saving an Excel spreadsheet for every kind of keywords\n",
        "df_mesh[df_mesh['MH'] != \"nan\"].to_excel(\"mesh_keywords.xlsx\", index=False)\n",
        "df_keywords[df_keywords['OT'] != \"nan\"].to_excel(\"keywords.xlsx\", index=False)"
      ],
      "metadata": {
        "id": "XvPVWee4nu-q"
      },
      "execution_count": null,
      "outputs": []
    }
  ]
}