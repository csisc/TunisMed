{
  "nbformat": 4,
  "nbformat_minor": 0,
  "metadata": {
    "colab": {
      "provenance": []
    },
    "kernelspec": {
      "name": "python3",
      "display_name": "Python 3"
    },
    "language_info": {
      "name": "python"
    }
  },
  "cells": [
    {
      "cell_type": "code",
      "execution_count": 66,
      "metadata": {
        "id": "zOtZl-dGwc79"
      },
      "outputs": [],
      "source": [
        "#Opening the PubMed file\n",
        "with open(\"pubmed-LaTunisiem-set (1).txt\", \"r\") as f:\n",
        "  s = f.read()"
      ]
    },
    {
      "cell_type": "code",
      "source": [
        "#Splitting to have the publication records\n",
        "lines = s.split(\"\\n\\n\")"
      ],
      "metadata": {
        "id": "OwKw8nOLOUCJ"
      },
      "execution_count": 67,
      "outputs": []
    },
    {
      "cell_type": "code",
      "source": [
        "#Finding the number of publication records\n",
        "len(lines)"
      ],
      "metadata": {
        "colab": {
          "base_uri": "https://localhost:8080/"
        },
        "id": "_l2ABQe8Oo-v",
        "outputId": "4a8d0833-6332-4258-fe32-9ede85819c6e"
      },
      "execution_count": 68,
      "outputs": [
        {
          "output_type": "execute_result",
          "data": {
            "text/plain": [
              "7931"
            ]
          },
          "metadata": {},
          "execution_count": 68
        }
      ]
    },
    {
      "cell_type": "code",
      "source": [
        "#Joining values that are written in two lines or more\n",
        "ss = []\n",
        "for line in lines:\n",
        "  cat = line.split(\"\\n      \")\n",
        "  lin1 = \" \".join(cat)\n",
        "  ss.append(lin1)"
      ],
      "metadata": {
        "id": "Kj1OeQuZQTyP"
      },
      "execution_count": 69,
      "outputs": []
    },
    {
      "cell_type": "code",
      "source": [
        "#Converting data to dataframe\n",
        "import pandas as pd\n",
        "output = pd.DataFrame()\n",
        "for l in ss:\n",
        "  ls = l\n",
        "  i = 1\n",
        "  while (ls.count(\"FAU -\") > 0):\n",
        "    ls = ls[:ls.find(\"FAU -\")] + \"FAU\" + str(i) + \"-\" + ls[ls.find(\"FAU -\") + 5:]\n",
        "    i += 1\n",
        "  i = 1\n",
        "  while (ls.count(\"AD  -\") > 0):\n",
        "    ls = ls[:ls.find(\"AD  -\")] + \"AD \" + str(i) + \"-\" + ls[ls.find(\"AD  -\") + 5:]\n",
        "    i += 1\n",
        "  i = 1\n",
        "  while (ls.count(\"MH  -\") > 0):\n",
        "    ls = ls[:ls.find(\"MH  -\")] + \"MH \" + str(i) + \"-\" + ls[ls.find(\"MH  -\") + 5:]\n",
        "    i += 1\n",
        "  i = 1\n",
        "  while (ls.count(\"OT  -\") > 0):\n",
        "    ls = ls[:ls.find(\"OT  -\")] + \"OT \" + str(i) + \"-\" + ls[ls.find(\"OT  -\") + 5:]\n",
        "    i += 1\n",
        "  ls = ls.replace(\" [doi]\", \"\")\n",
        "  ll = {}\n",
        "  cat = ls.split(\"\\n\")\n",
        "  for c in cat[:-1]:\n",
        "    cc = [c[:c.index(\"- \")], c[c.index(\"- \")+2:]]\n",
        "    ll[cc[0]] = cc[1]\n",
        "  df_dictionary = pd.DataFrame([ll])\n",
        "  output = pd.concat([output, df_dictionary], ignore_index=True)"
      ],
      "metadata": {
        "id": "UXlq_NmGWvZD"
      },
      "execution_count": 70,
      "outputs": []
    },
    {
      "cell_type": "code",
      "source": [
        "#Removing useless columns\n",
        "output.drop(columns = [\"OWN \", \"STAT\", \"DCOM\", \"LR  \", \"IS  \", \"SO  \", \"EDAT\", \"PT  \", \"DEP \", \"PL  \", \"TA  \", \"AU  \", \"JT  \", \"JID \", \"SB  \", \"OTO \", \"EDAT\", \"MHDA\", \"CRDT\",\n",
        "\"PST \", \"RN  \", \"SI  \", \"PMC \", \"PMCR\", \"COIS\", \"PS  \", \"FPS \", \"EIN \", \"CON \", \"CIN \", \"RF  \", \"GR  \", \"AID \", \"OID \", \"GN  \", \"SO  \", \"CN  \"], inplace = True)"
      ],
      "metadata": {
        "id": "52blxHARb5mI"
      },
      "execution_count": 71,
      "outputs": []
    },
    {
      "cell_type": "code",
      "source": [
        "output.info()"
      ],
      "metadata": {
        "colab": {
          "base_uri": "https://localhost:8080/"
        },
        "id": "yXgPU1z_g0yo",
        "outputId": "649b9475-af98-4692-f874-d968cf67aa59"
      },
      "execution_count": 72,
      "outputs": [
        {
          "output_type": "stream",
          "name": "stdout",
          "text": [
            "<class 'pandas.core.frame.DataFrame'>\n",
            "RangeIndex: 7931 entries, 0 to 7930\n",
            "Columns: 868 entries, PMID to OT 42\n",
            "dtypes: object(868)\n",
            "memory usage: 52.5+ MB\n"
          ]
        }
      ]
    },
    {
      "cell_type": "code",
      "source": [
        "output.to_excel(\"output.xlsx\", index=False)"
      ],
      "metadata": {
        "id": "eusWWUMuq9rZ"
      },
      "execution_count": 74,
      "outputs": []
    }
  ]
}