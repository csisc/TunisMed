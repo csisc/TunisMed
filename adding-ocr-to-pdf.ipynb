{
  "nbformat": 4,
  "nbformat_minor": 0,
  "metadata": {
    "colab": {
      "provenance": []
    },
    "kernelspec": {
      "name": "python3",
      "display_name": "Python 3"
    },
    "language_info": {
      "name": "python"
    },
    "widgets": {
      "application/vnd.jupyter.widget-state+json": {
        "c805f18d50b34766be7026534a309286": {
          "model_module": "@jupyter-widgets/output",
          "model_name": "OutputModel",
          "model_module_version": "1.0.0",
          "state": {
            "_dom_classes": [],
            "_model_module": "@jupyter-widgets/output",
            "_model_module_version": "1.0.0",
            "_model_name": "OutputModel",
            "_view_count": null,
            "_view_module": "@jupyter-widgets/output",
            "_view_module_version": "1.0.0",
            "_view_name": "OutputView",
            "layout": "IPY_MODEL_d423de31986046448e397e50c8240b5f",
            "msg_id": "",
            "outputs": [
              {
                "output_type": "display_data",
                "data": {
                  "text/plain": "Scanning contents     \u001b[38;2;114;156;31m━━━━━━━━━━━━━━━━━━━━━━━━━━━━━━━━━━━━━━━━\u001b[0m \u001b[35m100%\u001b[0m \u001b[32m50/50\u001b[0m \u001b[36m0:00:00\u001b[0m\n",
                  "text/html": "<pre style=\"white-space:pre;overflow-x:auto;line-height:normal;font-family:Menlo,'DejaVu Sans Mono',consolas,'Courier New',monospace\">Scanning contents     <span style=\"color: #729c1f; text-decoration-color: #729c1f\">━━━━━━━━━━━━━━━━━━━━━━━━━━━━━━━━━━━━━━━━</span> <span style=\"color: #800080; text-decoration-color: #800080\">100%</span> <span style=\"color: #008000; text-decoration-color: #008000\">50/50</span> <span style=\"color: #008080; text-decoration-color: #008080\">0:00:00</span>\n</pre>\n"
                },
                "metadata": {}
              }
            ]
          }
        },
        "d423de31986046448e397e50c8240b5f": {
          "model_module": "@jupyter-widgets/base",
          "model_name": "LayoutModel",
          "model_module_version": "1.2.0",
          "state": {
            "_model_module": "@jupyter-widgets/base",
            "_model_module_version": "1.2.0",
            "_model_name": "LayoutModel",
            "_view_count": null,
            "_view_module": "@jupyter-widgets/base",
            "_view_module_version": "1.2.0",
            "_view_name": "LayoutView",
            "align_content": null,
            "align_items": null,
            "align_self": null,
            "border": null,
            "bottom": null,
            "display": null,
            "flex": null,
            "flex_flow": null,
            "grid_area": null,
            "grid_auto_columns": null,
            "grid_auto_flow": null,
            "grid_auto_rows": null,
            "grid_column": null,
            "grid_gap": null,
            "grid_row": null,
            "grid_template_areas": null,
            "grid_template_columns": null,
            "grid_template_rows": null,
            "height": null,
            "justify_content": null,
            "justify_items": null,
            "left": null,
            "margin": null,
            "max_height": null,
            "max_width": null,
            "min_height": null,
            "min_width": null,
            "object_fit": null,
            "object_position": null,
            "order": null,
            "overflow": null,
            "overflow_x": null,
            "overflow_y": null,
            "padding": null,
            "right": null,
            "top": null,
            "visibility": null,
            "width": null
          }
        },
        "637e116c8ba647f2a649f6ca9a308df6": {
          "model_module": "@jupyter-widgets/output",
          "model_name": "OutputModel",
          "model_module_version": "1.0.0",
          "state": {
            "_dom_classes": [],
            "_model_module": "@jupyter-widgets/output",
            "_model_module_version": "1.0.0",
            "_model_name": "OutputModel",
            "_view_count": null,
            "_view_module": "@jupyter-widgets/output",
            "_view_module_version": "1.0.0",
            "_view_name": "OutputView",
            "layout": "IPY_MODEL_a930cdde1f79476ab74d3933f8fa9a26",
            "msg_id": "",
            "outputs": [
              {
                "output_type": "display_data",
                "data": {
                  "text/plain": "OCR                   \u001b[38;2;114;156;31m━━━━━━━━━━━━━━━━━━━━━━━━━━━━━━━━━━━━━━━━\u001b[0m \u001b[35m100%\u001b[0m \u001b[32m50/50\u001b[0m \u001b[36m0:00:00\u001b[0m\n",
                  "text/html": "<pre style=\"white-space:pre;overflow-x:auto;line-height:normal;font-family:Menlo,'DejaVu Sans Mono',consolas,'Courier New',monospace\">OCR                   <span style=\"color: #729c1f; text-decoration-color: #729c1f\">━━━━━━━━━━━━━━━━━━━━━━━━━━━━━━━━━━━━━━━━</span> <span style=\"color: #800080; text-decoration-color: #800080\">100%</span> <span style=\"color: #008000; text-decoration-color: #008000\">50/50</span> <span style=\"color: #008080; text-decoration-color: #008080\">0:00:00</span>\n</pre>\n"
                },
                "metadata": {}
              }
            ]
          }
        },
        "a930cdde1f79476ab74d3933f8fa9a26": {
          "model_module": "@jupyter-widgets/base",
          "model_name": "LayoutModel",
          "model_module_version": "1.2.0",
          "state": {
            "_model_module": "@jupyter-widgets/base",
            "_model_module_version": "1.2.0",
            "_model_name": "LayoutModel",
            "_view_count": null,
            "_view_module": "@jupyter-widgets/base",
            "_view_module_version": "1.2.0",
            "_view_name": "LayoutView",
            "align_content": null,
            "align_items": null,
            "align_self": null,
            "border": null,
            "bottom": null,
            "display": null,
            "flex": null,
            "flex_flow": null,
            "grid_area": null,
            "grid_auto_columns": null,
            "grid_auto_flow": null,
            "grid_auto_rows": null,
            "grid_column": null,
            "grid_gap": null,
            "grid_row": null,
            "grid_template_areas": null,
            "grid_template_columns": null,
            "grid_template_rows": null,
            "height": null,
            "justify_content": null,
            "justify_items": null,
            "left": null,
            "margin": null,
            "max_height": null,
            "max_width": null,
            "min_height": null,
            "min_width": null,
            "object_fit": null,
            "object_position": null,
            "order": null,
            "overflow": null,
            "overflow_x": null,
            "overflow_y": null,
            "padding": null,
            "right": null,
            "top": null,
            "visibility": null,
            "width": null
          }
        },
        "9d9ae1b5ffc146e9ac213bbb81bab42f": {
          "model_module": "@jupyter-widgets/output",
          "model_name": "OutputModel",
          "model_module_version": "1.0.0",
          "state": {
            "_dom_classes": [],
            "_model_module": "@jupyter-widgets/output",
            "_model_module_version": "1.0.0",
            "_model_name": "OutputModel",
            "_view_count": null,
            "_view_module": "@jupyter-widgets/output",
            "_view_module_version": "1.0.0",
            "_view_name": "OutputView",
            "layout": "IPY_MODEL_01a0b8d7dc0c4e26ada0e9d97eab3a3f",
            "msg_id": "",
            "outputs": [
              {
                "output_type": "display_data",
                "data": {
                  "text/plain": "Recompressing JPEGs   \u001b[38;2;114;156;31m━━━━━━━━━━━━━━━━━━━━━━━━━━━━━━━━━━━━━━━━\u001b[0m \u001b[35m  0%\u001b[0m \u001b[32m0/0\u001b[0m \u001b[36m-:--:--\u001b[0m\n",
                  "text/html": "<pre style=\"white-space:pre;overflow-x:auto;line-height:normal;font-family:Menlo,'DejaVu Sans Mono',consolas,'Courier New',monospace\">Recompressing JPEGs   <span style=\"color: #729c1f; text-decoration-color: #729c1f\">━━━━━━━━━━━━━━━━━━━━━━━━━━━━━━━━━━━━━━━━</span> <span style=\"color: #800080; text-decoration-color: #800080\">  0%</span> <span style=\"color: #008000; text-decoration-color: #008000\">0/0</span> <span style=\"color: #008080; text-decoration-color: #008080\">-:--:--</span>\n</pre>\n"
                },
                "metadata": {}
              }
            ]
          }
        },
        "01a0b8d7dc0c4e26ada0e9d97eab3a3f": {
          "model_module": "@jupyter-widgets/base",
          "model_name": "LayoutModel",
          "model_module_version": "1.2.0",
          "state": {
            "_model_module": "@jupyter-widgets/base",
            "_model_module_version": "1.2.0",
            "_model_name": "LayoutModel",
            "_view_count": null,
            "_view_module": "@jupyter-widgets/base",
            "_view_module_version": "1.2.0",
            "_view_name": "LayoutView",
            "align_content": null,
            "align_items": null,
            "align_self": null,
            "border": null,
            "bottom": null,
            "display": null,
            "flex": null,
            "flex_flow": null,
            "grid_area": null,
            "grid_auto_columns": null,
            "grid_auto_flow": null,
            "grid_auto_rows": null,
            "grid_column": null,
            "grid_gap": null,
            "grid_row": null,
            "grid_template_areas": null,
            "grid_template_columns": null,
            "grid_template_rows": null,
            "height": null,
            "justify_content": null,
            "justify_items": null,
            "left": null,
            "margin": null,
            "max_height": null,
            "max_width": null,
            "min_height": null,
            "min_width": null,
            "object_fit": null,
            "object_position": null,
            "order": null,
            "overflow": null,
            "overflow_x": null,
            "overflow_y": null,
            "padding": null,
            "right": null,
            "top": null,
            "visibility": null,
            "width": null
          }
        },
        "ba4db6c140864f3da977850c053475cf": {
          "model_module": "@jupyter-widgets/output",
          "model_name": "OutputModel",
          "model_module_version": "1.0.0",
          "state": {
            "_dom_classes": [],
            "_model_module": "@jupyter-widgets/output",
            "_model_module_version": "1.0.0",
            "_model_name": "OutputModel",
            "_view_count": null,
            "_view_module": "@jupyter-widgets/output",
            "_view_module_version": "1.0.0",
            "_view_name": "OutputView",
            "layout": "IPY_MODEL_b8a0468cf06643bdbd9dfc332672b5ca",
            "msg_id": "",
            "outputs": [
              {
                "output_type": "display_data",
                "data": {
                  "text/plain": "Deflating JPEGs       \u001b[38;2;114;156;31m━━━━━━━━━━━━━━━━━━━━━━━━━━━━━━━━━━━━━━━━\u001b[0m \u001b[35m100%\u001b[0m \u001b[32m50/50\u001b[0m \u001b[36m0:00:00\u001b[0m\n",
                  "text/html": "<pre style=\"white-space:pre;overflow-x:auto;line-height:normal;font-family:Menlo,'DejaVu Sans Mono',consolas,'Courier New',monospace\">Deflating JPEGs       <span style=\"color: #729c1f; text-decoration-color: #729c1f\">━━━━━━━━━━━━━━━━━━━━━━━━━━━━━━━━━━━━━━━━</span> <span style=\"color: #800080; text-decoration-color: #800080\">100%</span> <span style=\"color: #008000; text-decoration-color: #008000\">50/50</span> <span style=\"color: #008080; text-decoration-color: #008080\">0:00:00</span>\n</pre>\n"
                },
                "metadata": {}
              }
            ]
          }
        },
        "b8a0468cf06643bdbd9dfc332672b5ca": {
          "model_module": "@jupyter-widgets/base",
          "model_name": "LayoutModel",
          "model_module_version": "1.2.0",
          "state": {
            "_model_module": "@jupyter-widgets/base",
            "_model_module_version": "1.2.0",
            "_model_name": "LayoutModel",
            "_view_count": null,
            "_view_module": "@jupyter-widgets/base",
            "_view_module_version": "1.2.0",
            "_view_name": "LayoutView",
            "align_content": null,
            "align_items": null,
            "align_self": null,
            "border": null,
            "bottom": null,
            "display": null,
            "flex": null,
            "flex_flow": null,
            "grid_area": null,
            "grid_auto_columns": null,
            "grid_auto_flow": null,
            "grid_auto_rows": null,
            "grid_column": null,
            "grid_gap": null,
            "grid_row": null,
            "grid_template_areas": null,
            "grid_template_columns": null,
            "grid_template_rows": null,
            "height": null,
            "justify_content": null,
            "justify_items": null,
            "left": null,
            "margin": null,
            "max_height": null,
            "max_width": null,
            "min_height": null,
            "min_width": null,
            "object_fit": null,
            "object_position": null,
            "order": null,
            "overflow": null,
            "overflow_x": null,
            "overflow_y": null,
            "padding": null,
            "right": null,
            "top": null,
            "visibility": null,
            "width": null
          }
        },
        "50e4d2ee00874da1a7b0339cdcb96f70": {
          "model_module": "@jupyter-widgets/output",
          "model_name": "OutputModel",
          "model_module_version": "1.0.0",
          "state": {
            "_dom_classes": [],
            "_model_module": "@jupyter-widgets/output",
            "_model_module_version": "1.0.0",
            "_model_name": "OutputModel",
            "_view_count": null,
            "_view_module": "@jupyter-widgets/output",
            "_view_module_version": "1.0.0",
            "_view_name": "OutputView",
            "layout": "IPY_MODEL_c36a6595536c42dc8e93cf98e89876cd",
            "msg_id": "",
            "outputs": [
              {
                "output_type": "display_data",
                "data": {
                  "text/plain": "JBIG2                 \u001b[38;2;114;156;31m━━━━━━━━━━━━━━━━━━━━━━━━━━━━━━━━━━━━━━━━\u001b[0m \u001b[35m  0%\u001b[0m \u001b[32m0/0\u001b[0m \u001b[36m-:--:--\u001b[0m\n",
                  "text/html": "<pre style=\"white-space:pre;overflow-x:auto;line-height:normal;font-family:Menlo,'DejaVu Sans Mono',consolas,'Courier New',monospace\">JBIG2                 <span style=\"color: #729c1f; text-decoration-color: #729c1f\">━━━━━━━━━━━━━━━━━━━━━━━━━━━━━━━━━━━━━━━━</span> <span style=\"color: #800080; text-decoration-color: #800080\">  0%</span> <span style=\"color: #008000; text-decoration-color: #008000\">0/0</span> <span style=\"color: #008080; text-decoration-color: #008080\">-:--:--</span>\n</pre>\n"
                },
                "metadata": {}
              }
            ]
          }
        },
        "c36a6595536c42dc8e93cf98e89876cd": {
          "model_module": "@jupyter-widgets/base",
          "model_name": "LayoutModel",
          "model_module_version": "1.2.0",
          "state": {
            "_model_module": "@jupyter-widgets/base",
            "_model_module_version": "1.2.0",
            "_model_name": "LayoutModel",
            "_view_count": null,
            "_view_module": "@jupyter-widgets/base",
            "_view_module_version": "1.2.0",
            "_view_name": "LayoutView",
            "align_content": null,
            "align_items": null,
            "align_self": null,
            "border": null,
            "bottom": null,
            "display": null,
            "flex": null,
            "flex_flow": null,
            "grid_area": null,
            "grid_auto_columns": null,
            "grid_auto_flow": null,
            "grid_auto_rows": null,
            "grid_column": null,
            "grid_gap": null,
            "grid_row": null,
            "grid_template_areas": null,
            "grid_template_columns": null,
            "grid_template_rows": null,
            "height": null,
            "justify_content": null,
            "justify_items": null,
            "left": null,
            "margin": null,
            "max_height": null,
            "max_width": null,
            "min_height": null,
            "min_width": null,
            "object_fit": null,
            "object_position": null,
            "order": null,
            "overflow": null,
            "overflow_x": null,
            "overflow_y": null,
            "padding": null,
            "right": null,
            "top": null,
            "visibility": null,
            "width": null
          }
        }
      }
    }
  },
  "cells": [
    {
      "cell_type": "code",
      "source": [
        "#Installing Python Package for OCR Recognition\n",
        "!pip install ocrmypdf"
      ],
      "metadata": {
        "id": "0W6Ricpui9iz",
        "colab": {
          "base_uri": "https://localhost:8080/"
        },
        "outputId": "b1c9717c-731f-49f7-dac3-6ccbd053fb28"
      },
      "execution_count": null,
      "outputs": [
        {
          "output_type": "stream",
          "name": "stdout",
          "text": [
            "Requirement already satisfied: pdfminer.six in /usr/local/lib/python3.10/dist-packages (20231228)\n",
            "Requirement already satisfied: ocrmypdf in /usr/local/lib/python3.10/dist-packages (16.2.0)\n",
            "Collecting pytesseract\n",
            "  Downloading pytesseract-0.3.10-py3-none-any.whl (14 kB)\n",
            "Requirement already satisfied: charset-normalizer>=2.0.0 in /usr/local/lib/python3.10/dist-packages (from pdfminer.six) (3.3.2)\n",
            "Requirement already satisfied: cryptography>=36.0.0 in /usr/local/lib/python3.10/dist-packages (from pdfminer.six) (42.0.5)\n",
            "Requirement already satisfied: deprecation>=2.1.0 in /usr/local/lib/python3.10/dist-packages (from ocrmypdf) (2.1.0)\n",
            "Requirement already satisfied: img2pdf>=0.5 in /usr/local/lib/python3.10/dist-packages (from ocrmypdf) (0.5.1)\n",
            "Requirement already satisfied: packaging>=20 in /usr/local/lib/python3.10/dist-packages (from ocrmypdf) (24.0)\n",
            "Requirement already satisfied: pi-heif in /usr/local/lib/python3.10/dist-packages (from ocrmypdf) (0.16.0)\n",
            "Requirement already satisfied: pikepdf>=8.10.1 in /usr/local/lib/python3.10/dist-packages (from ocrmypdf) (8.15.1)\n",
            "Requirement already satisfied: Pillow>=10.0.1 in /usr/local/lib/python3.10/dist-packages (from ocrmypdf) (10.3.0)\n",
            "Requirement already satisfied: pluggy>=1 in /usr/local/lib/python3.10/dist-packages (from ocrmypdf) (1.5.0)\n",
            "Requirement already satisfied: rich>=13 in /usr/local/lib/python3.10/dist-packages (from ocrmypdf) (13.7.1)\n",
            "Requirement already satisfied: cffi>=1.12 in /usr/local/lib/python3.10/dist-packages (from cryptography>=36.0.0->pdfminer.six) (1.16.0)\n",
            "Requirement already satisfied: Deprecated in /usr/local/lib/python3.10/dist-packages (from pikepdf>=8.10.1->ocrmypdf) (1.2.14)\n",
            "Requirement already satisfied: lxml>=4.8 in /usr/local/lib/python3.10/dist-packages (from pikepdf>=8.10.1->ocrmypdf) (4.9.4)\n",
            "Requirement already satisfied: markdown-it-py>=2.2.0 in /usr/local/lib/python3.10/dist-packages (from rich>=13->ocrmypdf) (3.0.0)\n",
            "Requirement already satisfied: pygments<3.0.0,>=2.13.0 in /usr/local/lib/python3.10/dist-packages (from rich>=13->ocrmypdf) (2.16.1)\n",
            "Requirement already satisfied: pycparser in /usr/local/lib/python3.10/dist-packages (from cffi>=1.12->cryptography>=36.0.0->pdfminer.six) (2.22)\n",
            "Requirement already satisfied: mdurl~=0.1 in /usr/local/lib/python3.10/dist-packages (from markdown-it-py>=2.2.0->rich>=13->ocrmypdf) (0.1.2)\n",
            "Requirement already satisfied: wrapt<2,>=1.10 in /usr/local/lib/python3.10/dist-packages (from Deprecated->pikepdf>=8.10.1->ocrmypdf) (1.14.1)\n",
            "Installing collected packages: pytesseract\n",
            "Successfully installed pytesseract-0.3.10\n"
          ]
        }
      ]
    },
    {
      "cell_type": "code",
      "source": [
        "#Installing Software for the OCR Recognition\n",
        "!apt install tesseract-ocr libtesseract-dev ghostscript unpaper qpdf tesseract-ocr-fra"
      ],
      "metadata": {
        "colab": {
          "base_uri": "https://localhost:8080/"
        },
        "id": "PkDtr0NPQ6Mv",
        "outputId": "33ae557e-d892-497b-c8f6-4179f93b8baf"
      },
      "execution_count": null,
      "outputs": [
        {
          "output_type": "stream",
          "name": "stdout",
          "text": [
            "Reading package lists... Done\n",
            "Building dependency tree... Done\n",
            "Reading state information... Done\n",
            "libtesseract-dev is already the newest version (4.1.1-2.1build1).\n",
            "qpdf is already the newest version (10.6.3-1).\n",
            "tesseract-ocr is already the newest version (4.1.1-2.1build1).\n",
            "unpaper is already the newest version (6.1-2build1).\n",
            "ghostscript is already the newest version (9.55.0~dfsg1-0ubuntu5.6).\n",
            "The following NEW packages will be installed:\n",
            "  tesseract-ocr-fra\n",
            "0 upgraded, 1 newly installed, 0 to remove and 45 not upgraded.\n",
            "Need to get 527 kB of archives.\n",
            "After this operation, 1,145 kB of additional disk space will be used.\n",
            "Get:1 http://archive.ubuntu.com/ubuntu jammy/universe amd64 tesseract-ocr-fra all 1:4.00~git30-7274cfa-1.1 [527 kB]\n",
            "Fetched 527 kB in 1s (940 kB/s)\n",
            "Selecting previously unselected package tesseract-ocr-fra.\n",
            "(Reading database ... 123262 files and directories currently installed.)\n",
            "Preparing to unpack .../tesseract-ocr-fra_1%3a4.00~git30-7274cfa-1.1_all.deb ...\n",
            "Unpacking tesseract-ocr-fra (1:4.00~git30-7274cfa-1.1) ...\n",
            "Setting up tesseract-ocr-fra (1:4.00~git30-7274cfa-1.1) ...\n"
          ]
        }
      ]
    },
    {
      "cell_type": "code",
      "source": [
        "#Downloading the PDF of the volume in a particular year\n",
        "import urllib.request\n",
        "year = \"2008\"\n",
        "urllib.request.urlretrieve('https://search.archives.nat.tn/uploads/La%20Tunisie%20Medicale-'+year+'/ant-archive.pdf', year+\".pdf\")"
      ],
      "metadata": {
        "colab": {
          "base_uri": "https://localhost:8080/"
        },
        "id": "MmLKrDm1J2sD",
        "outputId": "59ec493e-f384-4042-b9bd-0355214785a8"
      },
      "execution_count": null,
      "outputs": [
        {
          "output_type": "execute_result",
          "data": {
            "text/plain": [
              "('f.pdf', <http.client.HTTPMessage at 0x7d7f72f7cfd0>)"
            ]
          },
          "metadata": {},
          "execution_count": 6
        }
      ]
    },
    {
      "cell_type": "code",
      "source": [
        "#Logging in to the Google Drive where the output PDF files should be stored after their processing\n",
        "from google.colab import drive\n",
        "import json\n",
        "drive.mount('/content/drive')"
      ],
      "metadata": {
        "id": "bKp7pM8plaig"
      },
      "execution_count": null,
      "outputs": []
    },
    {
      "cell_type": "code",
      "source": [
        "#Creating a function for adding the OCR layer\n",
        "#Source code: Clint Hirschauer, https://stackoverflow.com/questions/57398839/how-do-i-convert-scanned-pdf-into-searchable-pdf-in-python-mac-e-g-ocrmypdf\n",
        "import ocrmypdf\n",
        "import pytesseract as tesseract\n",
        "def ocr(file_path, save_path):\n",
        "    ocrmypdf.ocr(file_path, save_path, rotate_pages=True,\n",
        "    language=\"fra\", deskew=True, force_ocr=True)"
      ],
      "metadata": {
        "id": "yr6AaTuHNXWe"
      },
      "execution_count": null,
      "outputs": []
    },
    {
      "cell_type": "code",
      "source": [
        "#Converting the PDF file and storing it in Google Drive\n",
        "ocr(year+\".pdf\", \"/content/drive/MyDrive/\"+year+\"_1.pdf\")"
      ],
      "metadata": {
        "colab": {
          "base_uri": "https://localhost:8080/",
          "height": 1000,
          "referenced_widgets": [
            "c805f18d50b34766be7026534a309286",
            "d423de31986046448e397e50c8240b5f",
            "637e116c8ba647f2a649f6ca9a308df6",
            "a930cdde1f79476ab74d3933f8fa9a26",
            "9d9ae1b5ffc146e9ac213bbb81bab42f",
            "01a0b8d7dc0c4e26ada0e9d97eab3a3f",
            "ba4db6c140864f3da977850c053475cf",
            "b8a0468cf06643bdbd9dfc332672b5ca",
            "50e4d2ee00874da1a7b0339cdcb96f70",
            "c36a6595536c42dc8e93cf98e89876cd"
          ]
        },
        "id": "C6KP1vhUOVlf",
        "outputId": "39f8ff06-6a9a-47b0-b1fe-a00237d0068b"
      },
      "execution_count": null,
      "outputs": [
        {
          "output_type": "display_data",
          "data": {
            "text/plain": [
              "Output()"
            ],
            "application/vnd.jupyter.widget-view+json": {
              "version_major": 2,
              "version_minor": 0,
              "model_id": "c805f18d50b34766be7026534a309286"
            }
          },
          "metadata": {}
        },
        {
          "output_type": "display_data",
          "data": {
            "text/plain": [],
            "text/html": [
              "<pre style=\"white-space:pre;overflow-x:auto;line-height:normal;font-family:Menlo,'DejaVu Sans Mono',consolas,'Courier New',monospace\"></pre>\n"
            ]
          },
          "metadata": {}
        },
        {
          "output_type": "display_data",
          "data": {
            "text/plain": [
              "\n"
            ],
            "text/html": [
              "<pre style=\"white-space:pre;overflow-x:auto;line-height:normal;font-family:Menlo,'DejaVu Sans Mono',consolas,'Courier New',monospace\">\n",
              "</pre>\n"
            ]
          },
          "metadata": {}
        },
        {
          "output_type": "display_data",
          "data": {
            "text/plain": [
              "Output()"
            ],
            "application/vnd.jupyter.widget-view+json": {
              "version_major": 2,
              "version_minor": 0,
              "model_id": "637e116c8ba647f2a649f6ca9a308df6"
            }
          },
          "metadata": {}
        },
        {
          "output_type": "stream",
          "name": "stderr",
          "text": [
            "WARNING:ocrmypdf._exec.tesseract:[tesseract] lots of diacritics - possibly poor OCR\n",
            "WARNING:ocrmypdf._exec.tesseract:[tesseract] lots of diacritics - possibly poor OCR\n",
            "WARNING:ocrmypdf._exec.tesseract:[tesseract] lots of diacritics - possibly poor OCR\n",
            "WARNING:ocrmypdf._exec.tesseract:[tesseract] lots of diacritics - possibly poor OCR\n",
            "WARNING:ocrmypdf._exec.tesseract:[tesseract] lots of diacritics - possibly poor OCR\n",
            "WARNING:ocrmypdf._exec.tesseract:[tesseract] lots of diacritics - possibly poor OCR\n",
            "WARNING:ocrmypdf._exec.tesseract:[tesseract] lots of diacritics - possibly poor OCR\n",
            "WARNING:ocrmypdf._exec.tesseract:[tesseract] lots of diacritics - possibly poor OCR\n",
            "WARNING:ocrmypdf._exec.tesseract:[tesseract] lots of diacritics - possibly poor OCR\n",
            "WARNING:ocrmypdf._exec.tesseract:[tesseract] lots of diacritics - possibly poor OCR\n",
            "WARNING:ocrmypdf._exec.tesseract:[tesseract] lots of diacritics - possibly poor OCR\n",
            "WARNING:ocrmypdf._exec.tesseract:[tesseract] lots of diacritics - possibly poor OCR\n",
            "WARNING:ocrmypdf._exec.tesseract:[tesseract] lots of diacritics - possibly poor OCR\n",
            "WARNING:ocrmypdf._exec.tesseract:[tesseract] lots of diacritics - possibly poor OCR\n",
            "WARNING:ocrmypdf._exec.tesseract:[tesseract] lots of diacritics - possibly poor OCR\n",
            "WARNING:ocrmypdf._exec.tesseract:[tesseract] lots of diacritics - possibly poor OCR\n",
            "WARNING:ocrmypdf._exec.tesseract:[tesseract] lots of diacritics - possibly poor OCR\n",
            "WARNING:ocrmypdf._exec.tesseract:[tesseract] lots of diacritics - possibly poor OCR\n",
            "WARNING:ocrmypdf._exec.tesseract:[tesseract] lots of diacritics - possibly poor OCR\n"
          ]
        },
        {
          "output_type": "display_data",
          "data": {
            "text/plain": [],
            "text/html": [
              "<pre style=\"white-space:pre;overflow-x:auto;line-height:normal;font-family:Menlo,'DejaVu Sans Mono',consolas,'Courier New',monospace\"></pre>\n"
            ]
          },
          "metadata": {}
        },
        {
          "output_type": "display_data",
          "data": {
            "text/plain": [
              "\n"
            ],
            "text/html": [
              "<pre style=\"white-space:pre;overflow-x:auto;line-height:normal;font-family:Menlo,'DejaVu Sans Mono',consolas,'Courier New',monospace\">\n",
              "</pre>\n"
            ]
          },
          "metadata": {}
        },
        {
          "output_type": "stream",
          "name": "stderr",
          "text": [
            "ERROR:ocrmypdf._exec.ghostscript:GPL Ghostscript 9.55.0 (2021-09-27)\n",
            "Copyright (C) 2021 Artifex Software, Inc.  All rights reserved.\n",
            "This software is supplied under the GNU AGPLv3 and comes with NO WARRANTY:\n",
            "see the file COPYING for details.\n",
            "Processing pages 1 through 50.\n",
            "Page 1\n",
            "Page 2\n",
            "Page 3\n",
            "Page 4\n",
            "Page 5\n",
            "                 Output may be incorrect.\n",
            "\n",
            "   \n",
            "ERROR:ocrmypdf._exec.ghostscript: Error: Invalid 0.0 horizontal text scaling given for Tz\n",
            "                 Output may be incorrect.\n",
            "\n",
            "   \n",
            "ERROR:ocrmypdf._exec.ghostscript: Error: Invalid 0.0 horizontal text scaling given for Tz\n",
            "Page 6\n",
            "Page 7\n",
            "Page 8\n",
            "Page 9\n",
            "Page 10\n",
            "Page 11\n",
            "Page 12\n",
            "Page 13\n",
            "Page 14\n",
            "Page 15\n",
            "Page 16\n",
            "Page 17\n",
            "Page 18\n",
            "                 Output may be incorrect.\n",
            "\n",
            "   \n",
            "ERROR:ocrmypdf._exec.ghostscript:(suppressed 2 repeated lines)\n",
            "ERROR:ocrmypdf._exec.ghostscript: Error: Invalid 0.0 horizontal text scaling given for Tz\n",
            "Page 19\n",
            "                 Output may be incorrect.\n",
            "\n",
            "   \n",
            "ERROR:ocrmypdf._exec.ghostscript: Error: Invalid 0.0 horizontal text scaling given for Tz\n",
            "Page 20\n",
            "                 Output may be incorrect.\n",
            "\n",
            "   \n",
            "ERROR:ocrmypdf._exec.ghostscript: Error: Invalid 0.0 horizontal text scaling given for Tz\n",
            "Page 21\n",
            "Page 22\n",
            "Page 23\n",
            "                 Output may be incorrect.\n",
            "\n",
            "   \n",
            "ERROR:ocrmypdf._exec.ghostscript: Error: Invalid 0.0 horizontal text scaling given for Tz\n",
            "                 Output may be incorrect.\n",
            "\n",
            "   \n",
            "ERROR:ocrmypdf._exec.ghostscript: Error: Invalid 0.0 horizontal text scaling given for Tz\n",
            "Page 24\n",
            "Page 25\n",
            "Page 26\n",
            "                 Output may be incorrect.\n",
            "\n",
            "   \n",
            "ERROR:ocrmypdf._exec.ghostscript: Error: Invalid 0.0 horizontal text scaling given for Tz\n",
            "Page 27\n",
            "Page 28\n",
            "Page 29\n",
            "Page 30\n",
            "Page 31\n",
            "Page 32\n",
            "Page 33\n",
            "Page 34\n",
            "Page 35\n",
            "Page 36\n",
            "Page 37\n",
            "Page 38\n",
            "Page 39\n",
            "                 Output may be incorrect.\n",
            "\n",
            "   \n",
            "ERROR:ocrmypdf._exec.ghostscript: Error: Invalid 0.0 horizontal text scaling given for Tz\n",
            "Page 40\n",
            "Page 41\n",
            "Page 42\n",
            "Page 43\n",
            "                 Output may be incorrect.\n",
            "\n",
            "   \n",
            "ERROR:ocrmypdf._exec.ghostscript: Error: Invalid 0.0 horizontal text scaling given for Tz\n",
            "Page 44\n",
            "Page 45\n",
            "                 Output may be incorrect.\n",
            "\n",
            "   \n",
            "ERROR:ocrmypdf._exec.ghostscript: Error: Invalid 0.0 horizontal text scaling given for Tz\n",
            "Page 46\n",
            "Page 47\n",
            "Page 48\n",
            "Page 49\n",
            "Page 50\n",
            "                 Output may be incorrect.\n",
            "\n",
            "   \n",
            "ERROR:ocrmypdf._exec.ghostscript: Error: Invalid 0.0 horizontal text scaling given for Tz\n",
            "\n"
          ]
        },
        {
          "output_type": "display_data",
          "data": {
            "text/plain": [
              "Output()"
            ],
            "application/vnd.jupyter.widget-view+json": {
              "version_major": 2,
              "version_minor": 0,
              "model_id": "9d9ae1b5ffc146e9ac213bbb81bab42f"
            }
          },
          "metadata": {}
        },
        {
          "output_type": "display_data",
          "data": {
            "text/plain": [],
            "text/html": [
              "<pre style=\"white-space:pre;overflow-x:auto;line-height:normal;font-family:Menlo,'DejaVu Sans Mono',consolas,'Courier New',monospace\"></pre>\n"
            ]
          },
          "metadata": {}
        },
        {
          "output_type": "display_data",
          "data": {
            "text/plain": [
              "\n"
            ],
            "text/html": [
              "<pre style=\"white-space:pre;overflow-x:auto;line-height:normal;font-family:Menlo,'DejaVu Sans Mono',consolas,'Courier New',monospace\">\n",
              "</pre>\n"
            ]
          },
          "metadata": {}
        },
        {
          "output_type": "display_data",
          "data": {
            "text/plain": [
              "Output()"
            ],
            "application/vnd.jupyter.widget-view+json": {
              "version_major": 2,
              "version_minor": 0,
              "model_id": "ba4db6c140864f3da977850c053475cf"
            }
          },
          "metadata": {}
        },
        {
          "output_type": "display_data",
          "data": {
            "text/plain": [],
            "text/html": [
              "<pre style=\"white-space:pre;overflow-x:auto;line-height:normal;font-family:Menlo,'DejaVu Sans Mono',consolas,'Courier New',monospace\"></pre>\n"
            ]
          },
          "metadata": {}
        },
        {
          "output_type": "display_data",
          "data": {
            "text/plain": [
              "\n"
            ],
            "text/html": [
              "<pre style=\"white-space:pre;overflow-x:auto;line-height:normal;font-family:Menlo,'DejaVu Sans Mono',consolas,'Courier New',monospace\">\n",
              "</pre>\n"
            ]
          },
          "metadata": {}
        },
        {
          "output_type": "display_data",
          "data": {
            "text/plain": [
              "Output()"
            ],
            "application/vnd.jupyter.widget-view+json": {
              "version_major": 2,
              "version_minor": 0,
              "model_id": "50e4d2ee00874da1a7b0339cdcb96f70"
            }
          },
          "metadata": {}
        },
        {
          "output_type": "display_data",
          "data": {
            "text/plain": [],
            "text/html": [
              "<pre style=\"white-space:pre;overflow-x:auto;line-height:normal;font-family:Menlo,'DejaVu Sans Mono',consolas,'Courier New',monospace\"></pre>\n"
            ]
          },
          "metadata": {}
        },
        {
          "output_type": "display_data",
          "data": {
            "text/plain": [
              "\n"
            ],
            "text/html": [
              "<pre style=\"white-space:pre;overflow-x:auto;line-height:normal;font-family:Menlo,'DejaVu Sans Mono',consolas,'Courier New',monospace\">\n",
              "</pre>\n"
            ]
          },
          "metadata": {}
        }
      ]
    }
  ]
}